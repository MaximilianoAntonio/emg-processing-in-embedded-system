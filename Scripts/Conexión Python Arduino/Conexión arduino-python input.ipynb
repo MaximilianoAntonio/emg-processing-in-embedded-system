{
 "cells": [
  {
   "cell_type": "code",
   "execution_count": 1,
   "metadata": {},
   "outputs": [],
   "source": [
    "import serial\n",
    "\n",
    "# Abre el puerto serie\n",
    "ser = serial.Serial('COM3', 115200)  # Reemplaza 'COMX' con el nombre de tu puerto serie\n",
    "\n",
    "while True:\n",
    "    # Recibe la señal de Arduino\n",
    "    sensor_value = ser.readline().decode('utf-8').strip()\n",
    "\n",
    "    # Realiza algún procesamiento (cambia esto según tus necesidades)\n",
    "    processed_value = int(input('Ingrese 1 o 2: '))\n",
    "\n",
    "    # Envía la respuesta a Arduino\n",
    "    ser.write(str(processed_value).encode('utf-8'))"
   ]
  }
 ],
 "metadata": {
  "kernelspec": {
   "display_name": "base",
   "language": "python",
   "name": "python3"
  },
  "language_info": {
   "codemirror_mode": {
    "name": "ipython",
    "version": 3
   },
   "file_extension": ".py",
   "mimetype": "text/x-python",
   "name": "python",
   "nbconvert_exporter": "python",
   "pygments_lexer": "ipython3",
   "version": "3.11.4"
  }
 },
 "nbformat": 4,
 "nbformat_minor": 2
}
